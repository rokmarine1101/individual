{
 "cells": [
  {
   "cell_type": "code",
   "execution_count": 1,
   "metadata": {},
   "outputs": [
    {
     "name": "stderr",
     "output_type": "stream",
     "text": [
      "/Users/jakekong/.pyenv/versions/3.6.1/lib/python3.6/site-packages/statsmodels/compat/pandas.py:56: FutureWarning: The pandas.core.datetools module is deprecated and will be removed in a future version. Please use the pandas.tseries module instead.\n",
      "  from pandas.core import datetools\n"
     ]
    }
   ],
   "source": [
    "from sklearn.linear_model import LogisticRegression\n",
    "from sklearn.svm import SVC\n",
    "import pandas as pd\n",
    "import scipy as sp\n",
    "import matplotlib.pyplot as plt\n",
    "from matplotlib import style\n",
    "import seaborn as sns\n",
    "import numpy as np\n",
    "import statsmodels.api as sm\n",
    "from sklearn.datasets import make_regression\n",
    "from patsy import dmatrix\n",
    "from sklearn.linear_model import LinearRegression\n",
    "import statsmodels.stats.api as sms\n",
    "import numpy as np"
   ]
  },
  {
   "cell_type": "code",
   "execution_count": 2,
   "metadata": {
    "collapsed": true
   },
   "outputs": [],
   "source": [
    "df = pd.read_csv('lotto.csv')"
   ]
  },
  {
   "cell_type": "code",
   "execution_count": null,
   "metadata": {
    "collapsed": true
   },
   "outputs": [],
   "source": [
    "from selenium import webdriver\n",
    "from selenium.webdriver.common.by import By\n",
    "from selenium.webdriver.support.ui import WebDriverWait\n",
    "from selenium.webdriver.support import expected_conditions as EC\n",
    "from selenium.common.exceptions import TimeoutException\n",
    "from selenium.webdriver import ActionChains\n",
    "import time\n",
    "\n",
    "\n",
    "lotto_numbers = []\n",
    "\n",
    "chromedriver = '/Users/jakekong/documents/chromedriver/chromedriver_mac64/chromedriver'\n",
    "driver = webdriver.Chrome(chromedriver)\n",
    "driver.get('http://lottor.kr/analysis/info_02.php')\n",
    "time.sleep(3)\n",
    "\n",
    "total = driver.find_elements_by_css_selector('#rightWrap > table > tbody > tr:nth-child(3) > td > table.bbs_t > tbody > tr:nth-child(1) > td:nth-child(1)')\n",
    "original_total = int(total[0].text)\n",
    "total = int(total[0].text) - int(total[0].text) % 10 + 20\n",
    "print (orginial_total)\n",
    "print (total)\n",
    "driver.quit()\n",
    "\n",
    "\n",
    "\n",
    "for i in range( total // 20):\n",
    "    back_number = i * 20\n",
    "    chromedriver = '/Users/jakekong/documents/chromedriver/chromedriver_mac64/chromedriver'\n",
    "    driver = webdriver.Chrome(chromedriver)\n",
    "    driver.get('http://lottor.kr/analysis/info_02.php?sStart={}'.format(back_number))\n",
    "    \n",
    "    tr = driver.find_elements_by_css_selector('#rightWrap > table > tbody > tr:nth-child(3) > td > table.bbs_t > tbody > tr')\n",
    "    \n",
    "    for i in range(1, len(tr)+1):\n",
    "        first_nums = driver.find_elements_by_css_selector('#rightWrap > table > tbody > tr:nth-child(3) > td > table.bbs_t > tbody > tr:nth-child({}) > td:nth-child(2)'.format(i))\n",
    "        second_nums = driver.find_elements_by_css_selector('#rightWrap > table > tbody > tr:nth-child(3) > td > table.bbs_t > tbody > tr:nth-child({}) > td:nth-child(3)'.format(i))\n",
    "        third_nums = driver.find_elements_by_css_selector('#rightWrap > table > tbody > tr:nth-child(3) > td > table.bbs_t > tbody > tr:nth-child({}) > td:nth-child(4)'.format(i))\n",
    "        fourth_nums = driver.find_elements_by_css_selector('#rightWrap > table > tbody > tr:nth-child(3) > td > table.bbs_t > tbody > tr:nth-child({}) > td:nth-child(5)'.format(i))\n",
    "        fifth_nums = driver.find_elements_by_css_selector('#rightWrap > table > tbody > tr:nth-child(3) > td > table.bbs_t > tbody > tr:nth-child({}) > td:nth-child(6)'.format(i))\n",
    "        sixth_nums = driver.find_elements_by_css_selector('#rightWrap > table > tbody > tr:nth-child(3) > td > table.bbs_t > tbody > tr:nth-child({}) > td:nth-child(7)'.format(i))\n",
    " \n",
    "    # date_withtime[0].text # 하나의 리스트 클래스로 생성됨 예: [3]\n",
    "        lotto_numbers.append([int(first_nums[0].text), int(second_nums[0].text), int(third_nums[0].text), int(fourth_nums[0].text), int(fifth_nums[0].text), int(sixth_nums[0].text)])\n",
    "\n",
    "    \n",
    "    driver.quit()\n",
    "    "
   ]
  }
 ],
 "metadata": {
  "kernelspec": {
   "display_name": "Python 3",
   "language": "python",
   "name": "python3"
  },
  "language_info": {
   "codemirror_mode": {
    "name": "ipython",
    "version": 3
   },
   "file_extension": ".py",
   "mimetype": "text/x-python",
   "name": "python",
   "nbconvert_exporter": "python",
   "pygments_lexer": "ipython3",
   "version": "3.6.1"
  }
 },
 "nbformat": 4,
 "nbformat_minor": 2
}
